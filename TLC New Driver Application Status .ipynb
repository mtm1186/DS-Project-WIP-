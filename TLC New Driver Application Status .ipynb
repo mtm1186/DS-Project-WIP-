{
 "cells": [
  {
   "cell_type": "code",
   "execution_count": 9,
   "metadata": {},
   "outputs": [],
   "source": [
    "import pandas as pd\n",
    "import numpy as np\n",
    "import matplotlib.pyplot as plt\n",
    "import requests\n",
    "import json\n"
   ]
  },
  {
   "cell_type": "code",
   "execution_count": 33,
   "metadata": {},
   "outputs": [],
   "source": [
    "response_API = requests.get('https://data.cityofnewyork.us/resource/dpec-ucu7.json')\n",
    "data = response_API.text"
   ]
  },
  {
   "cell_type": "code",
   "execution_count": 34,
   "metadata": {},
   "outputs": [
    {
     "name": "stdout",
     "output_type": "stream",
     "text": [
      "200\n"
     ]
    }
   ],
   "source": [
    "#print(response_API.status_code)\n",
    "print(response_API.status_code)\n",
    "data = json.loads(data)"
   ]
  },
  {
   "cell_type": "code",
   "execution_count": 35,
   "metadata": {},
   "outputs": [],
   "source": [
    "df = pd.json_normalize(data)"
   ]
  },
  {
   "cell_type": "code",
   "execution_count": 36,
   "metadata": {},
   "outputs": [
    {
     "data": {
      "text/plain": [
       "(1000, 12)"
      ]
     },
     "execution_count": 36,
     "metadata": {},
     "output_type": "execute_result"
    }
   ],
   "source": [
    "df.shape"
   ]
  },
  {
   "cell_type": "code",
   "execution_count": 37,
   "metadata": {},
   "outputs": [
    {
     "data": {
      "text/html": [
       "<div>\n",
       "<style scoped>\n",
       "    .dataframe tbody tr th:only-of-type {\n",
       "        vertical-align: middle;\n",
       "    }\n",
       "\n",
       "    .dataframe tbody tr th {\n",
       "        vertical-align: top;\n",
       "    }\n",
       "\n",
       "    .dataframe thead th {\n",
       "        text-align: right;\n",
       "    }\n",
       "</style>\n",
       "<table border=\"1\" class=\"dataframe\">\n",
       "  <thead>\n",
       "    <tr style=\"text-align: right;\">\n",
       "      <th></th>\n",
       "      <th>app_no</th>\n",
       "      <th>type</th>\n",
       "      <th>app_date</th>\n",
       "      <th>status</th>\n",
       "      <th>fru_interview_scheduled</th>\n",
       "      <th>drug_test</th>\n",
       "      <th>wav_course</th>\n",
       "      <th>defensive_driving</th>\n",
       "      <th>driver_exam</th>\n",
       "      <th>medical_clearance_form</th>\n",
       "      <th>other_requirements</th>\n",
       "      <th>lastupdate</th>\n",
       "    </tr>\n",
       "  </thead>\n",
       "  <tbody>\n",
       "    <tr>\n",
       "      <th>0</th>\n",
       "      <td>6022835</td>\n",
       "      <td>HDR</td>\n",
       "      <td>2023-03-15T00:00:00.000</td>\n",
       "      <td>Approved - License Issued</td>\n",
       "      <td>Not Applicable</td>\n",
       "      <td>Complete</td>\n",
       "      <td>Complete</td>\n",
       "      <td>Complete</td>\n",
       "      <td>Complete</td>\n",
       "      <td>Complete</td>\n",
       "      <td>Not Applicable</td>\n",
       "      <td>2023-04-08T05:00:01.000</td>\n",
       "    </tr>\n",
       "    <tr>\n",
       "      <th>1</th>\n",
       "      <td>6022416</td>\n",
       "      <td>HDR</td>\n",
       "      <td>2023-03-11T00:00:00.000</td>\n",
       "      <td>Incomplete</td>\n",
       "      <td>Not Applicable</td>\n",
       "      <td>Complete</td>\n",
       "      <td>Complete</td>\n",
       "      <td>Complete</td>\n",
       "      <td>Needed</td>\n",
       "      <td>Complete</td>\n",
       "      <td>Not Applicable</td>\n",
       "      <td>2023-04-08T05:00:01.000</td>\n",
       "    </tr>\n",
       "    <tr>\n",
       "      <th>2</th>\n",
       "      <td>6025253</td>\n",
       "      <td>HDR</td>\n",
       "      <td>2023-04-06T00:00:00.000</td>\n",
       "      <td>Incomplete</td>\n",
       "      <td>Not Applicable</td>\n",
       "      <td>Needed</td>\n",
       "      <td>Needed</td>\n",
       "      <td>Needed</td>\n",
       "      <td>Needed</td>\n",
       "      <td>Needed</td>\n",
       "      <td>Fingerprints needed; Copy of DMV license needed</td>\n",
       "      <td>2023-04-08T05:00:01.000</td>\n",
       "    </tr>\n",
       "    <tr>\n",
       "      <th>3</th>\n",
       "      <td>6021520</td>\n",
       "      <td>HDR</td>\n",
       "      <td>2023-03-02T00:00:00.000</td>\n",
       "      <td>Incomplete</td>\n",
       "      <td>Not Applicable</td>\n",
       "      <td>Complete</td>\n",
       "      <td>Complete</td>\n",
       "      <td>Complete</td>\n",
       "      <td>Needed</td>\n",
       "      <td>Needed</td>\n",
       "      <td>Copy of DMV license needed</td>\n",
       "      <td>2023-04-08T05:00:01.000</td>\n",
       "    </tr>\n",
       "    <tr>\n",
       "      <th>4</th>\n",
       "      <td>6022141</td>\n",
       "      <td>HDR</td>\n",
       "      <td>2023-03-08T00:00:00.000</td>\n",
       "      <td>Incomplete</td>\n",
       "      <td>Not Applicable</td>\n",
       "      <td>Complete</td>\n",
       "      <td>Complete</td>\n",
       "      <td>Needed</td>\n",
       "      <td>Needed</td>\n",
       "      <td>Complete</td>\n",
       "      <td>Not Applicable</td>\n",
       "      <td>2023-04-08T05:00:01.000</td>\n",
       "    </tr>\n",
       "  </tbody>\n",
       "</table>\n",
       "</div>"
      ],
      "text/plain": [
       "    app_no type                 app_date                     status  \\\n",
       "0  6022835  HDR  2023-03-15T00:00:00.000  Approved - License Issued   \n",
       "1  6022416  HDR  2023-03-11T00:00:00.000                 Incomplete   \n",
       "2  6025253  HDR  2023-04-06T00:00:00.000                 Incomplete   \n",
       "3  6021520  HDR  2023-03-02T00:00:00.000                 Incomplete   \n",
       "4  6022141  HDR  2023-03-08T00:00:00.000                 Incomplete   \n",
       "\n",
       "  fru_interview_scheduled drug_test wav_course defensive_driving driver_exam  \\\n",
       "0          Not Applicable  Complete   Complete          Complete    Complete   \n",
       "1          Not Applicable  Complete   Complete          Complete      Needed   \n",
       "2          Not Applicable    Needed     Needed            Needed      Needed   \n",
       "3          Not Applicable  Complete   Complete          Complete      Needed   \n",
       "4          Not Applicable  Complete   Complete            Needed      Needed   \n",
       "\n",
       "  medical_clearance_form                               other_requirements  \\\n",
       "0               Complete                                   Not Applicable   \n",
       "1               Complete                                   Not Applicable   \n",
       "2                 Needed  Fingerprints needed; Copy of DMV license needed   \n",
       "3                 Needed                       Copy of DMV license needed   \n",
       "4               Complete                                   Not Applicable   \n",
       "\n",
       "                lastupdate  \n",
       "0  2023-04-08T05:00:01.000  \n",
       "1  2023-04-08T05:00:01.000  \n",
       "2  2023-04-08T05:00:01.000  \n",
       "3  2023-04-08T05:00:01.000  \n",
       "4  2023-04-08T05:00:01.000  "
      ]
     },
     "execution_count": 37,
     "metadata": {},
     "output_type": "execute_result"
    }
   ],
   "source": [
    "df.head()"
   ]
  },
  {
   "cell_type": "code",
   "execution_count": 38,
   "metadata": {},
   "outputs": [
    {
     "data": {
      "text/plain": [
       "app_no                     object\n",
       "type                       object\n",
       "app_date                   object\n",
       "status                     object\n",
       "fru_interview_scheduled    object\n",
       "drug_test                  object\n",
       "wav_course                 object\n",
       "defensive_driving          object\n",
       "driver_exam                object\n",
       "medical_clearance_form     object\n",
       "other_requirements         object\n",
       "lastupdate                 object\n",
       "dtype: object"
      ]
     },
     "execution_count": 38,
     "metadata": {},
     "output_type": "execute_result"
    }
   ],
   "source": [
    "df.dtypes"
   ]
  },
  {
   "cell_type": "code",
   "execution_count": 21,
   "metadata": {},
   "outputs": [],
   "source": [
    "df['app_date'] = pd.to_datetime(df['app_date'])"
   ]
  },
  {
   "cell_type": "code",
   "execution_count": 39,
   "metadata": {},
   "outputs": [],
   "source": [
    "df['lastupdate'] = pd.to_datetime(df['lastupdate'])"
   ]
  },
  {
   "cell_type": "code",
   "execution_count": null,
   "metadata": {},
   "outputs": [],
   "source": []
  },
  {
   "cell_type": "code",
   "execution_count": 31,
   "metadata": {},
   "outputs": [
    {
     "data": {
      "text/plain": [
       "Timestamp('2006-01-26 00:00:00')"
      ]
     },
     "execution_count": 31,
     "metadata": {},
     "output_type": "execute_result"
    }
   ],
   "source": [
    "df['arrest_date'].min()"
   ]
  },
  {
   "cell_type": "code",
   "execution_count": 32,
   "metadata": {},
   "outputs": [
    {
     "data": {
      "text/plain": [
       "Timestamp('2021-12-30 00:00:00')"
      ]
     },
     "execution_count": 32,
     "metadata": {},
     "output_type": "execute_result"
    }
   ],
   "source": [
    "df['arrest_date'].max()"
   ]
  },
  {
   "cell_type": "code",
   "execution_count": null,
   "metadata": {},
   "outputs": [],
   "source": []
  },
  {
   "cell_type": "code",
   "execution_count": null,
   "metadata": {},
   "outputs": [],
   "source": []
  }
 ],
 "metadata": {
  "kernelspec": {
   "display_name": "Python 3",
   "language": "python",
   "name": "python3"
  },
  "language_info": {
   "codemirror_mode": {
    "name": "ipython",
    "version": 3
   },
   "file_extension": ".py",
   "mimetype": "text/x-python",
   "name": "python",
   "nbconvert_exporter": "python",
   "pygments_lexer": "ipython3",
   "version": "3.8.5"
  }
 },
 "nbformat": 4,
 "nbformat_minor": 4
}
