{
 "cells": [
  {
   "cell_type": "code",
   "execution_count": 1,
   "metadata": {},
   "outputs": [],
   "source": [
    "import pandas as pd\n",
    "import numpy as np\n",
    "import matplotlib.pyplot as plt\n",
    "import requests\n",
    "import json\n"
   ]
  },
  {
   "cell_type": "code",
   "execution_count": 2,
   "metadata": {},
   "outputs": [],
   "source": [
    "pd.set_option('display.max_rows', 3000)"
   ]
  },
  {
   "cell_type": "markdown",
   "metadata": {},
   "source": [
    "# Import Data via API"
   ]
  },
  {
   "cell_type": "code",
   "execution_count": 3,
   "metadata": {},
   "outputs": [],
   "source": [
    "response_API = requests.get('https://data.cityofnewyork.us/resource/dpec-ucu7.json')\n",
    "data = response_API.text"
   ]
  },
  {
   "cell_type": "code",
   "execution_count": 4,
   "metadata": {},
   "outputs": [
    {
     "name": "stdout",
     "output_type": "stream",
     "text": [
      "200\n"
     ]
    }
   ],
   "source": [
    "#print(response_API.status_code)\n",
    "print(response_API.status_code)\n",
    "data = json.loads(data)"
   ]
  },
  {
   "cell_type": "code",
   "execution_count": 5,
   "metadata": {},
   "outputs": [],
   "source": [
    "#Convert data from json format to Pandas dataframe\n",
    "df = pd.json_normalize(data)"
   ]
  },
  {
   "cell_type": "markdown",
   "metadata": {},
   "source": [
    "# Exploratory Data Analysis"
   ]
  },
  {
   "cell_type": "code",
   "execution_count": 6,
   "metadata": {},
   "outputs": [
    {
     "data": {
      "text/plain": [
       "(1000, 12)"
      ]
     },
     "execution_count": 6,
     "metadata": {},
     "output_type": "execute_result"
    }
   ],
   "source": [
    "df.shape"
   ]
  },
  {
   "cell_type": "code",
   "execution_count": 7,
   "metadata": {},
   "outputs": [
    {
     "data": {
      "text/html": [
       "<div>\n",
       "<style scoped>\n",
       "    .dataframe tbody tr th:only-of-type {\n",
       "        vertical-align: middle;\n",
       "    }\n",
       "\n",
       "    .dataframe tbody tr th {\n",
       "        vertical-align: top;\n",
       "    }\n",
       "\n",
       "    .dataframe thead th {\n",
       "        text-align: right;\n",
       "    }\n",
       "</style>\n",
       "<table border=\"1\" class=\"dataframe\">\n",
       "  <thead>\n",
       "    <tr style=\"text-align: right;\">\n",
       "      <th></th>\n",
       "      <th>app_no</th>\n",
       "      <th>type</th>\n",
       "      <th>app_date</th>\n",
       "      <th>status</th>\n",
       "      <th>fru_interview_scheduled</th>\n",
       "      <th>drug_test</th>\n",
       "      <th>wav_course</th>\n",
       "      <th>defensive_driving</th>\n",
       "      <th>driver_exam</th>\n",
       "      <th>medical_clearance_form</th>\n",
       "      <th>other_requirements</th>\n",
       "      <th>lastupdate</th>\n",
       "    </tr>\n",
       "  </thead>\n",
       "  <tbody>\n",
       "    <tr>\n",
       "      <th>0</th>\n",
       "      <td>6024473</td>\n",
       "      <td>HDR</td>\n",
       "      <td>2023-03-31T00:00:00.000</td>\n",
       "      <td>Incomplete</td>\n",
       "      <td>Not Applicable</td>\n",
       "      <td>Complete</td>\n",
       "      <td>Needed</td>\n",
       "      <td>Complete</td>\n",
       "      <td>Needed</td>\n",
       "      <td>Complete</td>\n",
       "      <td>Not Applicable</td>\n",
       "      <td>2023-04-22T05:00:01.000</td>\n",
       "    </tr>\n",
       "    <tr>\n",
       "      <th>1</th>\n",
       "      <td>6024321</td>\n",
       "      <td>HDR</td>\n",
       "      <td>2023-03-30T00:00:00.000</td>\n",
       "      <td>Incomplete</td>\n",
       "      <td>Not Applicable</td>\n",
       "      <td>Needed</td>\n",
       "      <td>Complete</td>\n",
       "      <td>Needed</td>\n",
       "      <td>Complete</td>\n",
       "      <td>Needed</td>\n",
       "      <td>Fingerprints needed</td>\n",
       "      <td>2023-04-22T05:00:01.000</td>\n",
       "    </tr>\n",
       "    <tr>\n",
       "      <th>2</th>\n",
       "      <td>6019221</td>\n",
       "      <td>HDR</td>\n",
       "      <td>2023-02-04T00:00:00.000</td>\n",
       "      <td>Incomplete</td>\n",
       "      <td>Not Applicable</td>\n",
       "      <td>Needed</td>\n",
       "      <td>Needed</td>\n",
       "      <td>Complete</td>\n",
       "      <td>Needed</td>\n",
       "      <td>Needed</td>\n",
       "      <td>Fingerprints needed</td>\n",
       "      <td>2023-04-22T05:00:01.000</td>\n",
       "    </tr>\n",
       "    <tr>\n",
       "      <th>3</th>\n",
       "      <td>6025925</td>\n",
       "      <td>HDR</td>\n",
       "      <td>2023-04-13T00:00:00.000</td>\n",
       "      <td>Incomplete</td>\n",
       "      <td>Not Applicable</td>\n",
       "      <td>Needed</td>\n",
       "      <td>Needed</td>\n",
       "      <td>Needed</td>\n",
       "      <td>Needed</td>\n",
       "      <td>Needed</td>\n",
       "      <td>Fingerprints needed; Copy of DMV license needed</td>\n",
       "      <td>2023-04-22T05:00:01.000</td>\n",
       "    </tr>\n",
       "    <tr>\n",
       "      <th>4</th>\n",
       "      <td>6026185</td>\n",
       "      <td>HDR</td>\n",
       "      <td>2023-04-17T00:00:00.000</td>\n",
       "      <td>Incomplete</td>\n",
       "      <td>Not Applicable</td>\n",
       "      <td>Needed</td>\n",
       "      <td>Needed</td>\n",
       "      <td>Needed</td>\n",
       "      <td>Needed</td>\n",
       "      <td>Needed</td>\n",
       "      <td>Fingerprints needed; Copy of DMV license needed</td>\n",
       "      <td>2023-04-22T05:00:01.000</td>\n",
       "    </tr>\n",
       "  </tbody>\n",
       "</table>\n",
       "</div>"
      ],
      "text/plain": [
       "    app_no type                 app_date      status fru_interview_scheduled  \\\n",
       "0  6024473  HDR  2023-03-31T00:00:00.000  Incomplete          Not Applicable   \n",
       "1  6024321  HDR  2023-03-30T00:00:00.000  Incomplete          Not Applicable   \n",
       "2  6019221  HDR  2023-02-04T00:00:00.000  Incomplete          Not Applicable   \n",
       "3  6025925  HDR  2023-04-13T00:00:00.000  Incomplete          Not Applicable   \n",
       "4  6026185  HDR  2023-04-17T00:00:00.000  Incomplete          Not Applicable   \n",
       "\n",
       "  drug_test wav_course defensive_driving driver_exam medical_clearance_form  \\\n",
       "0  Complete     Needed          Complete      Needed               Complete   \n",
       "1    Needed   Complete            Needed    Complete                 Needed   \n",
       "2    Needed     Needed          Complete      Needed                 Needed   \n",
       "3    Needed     Needed            Needed      Needed                 Needed   \n",
       "4    Needed     Needed            Needed      Needed                 Needed   \n",
       "\n",
       "                                other_requirements               lastupdate  \n",
       "0                                   Not Applicable  2023-04-22T05:00:01.000  \n",
       "1                              Fingerprints needed  2023-04-22T05:00:01.000  \n",
       "2                              Fingerprints needed  2023-04-22T05:00:01.000  \n",
       "3  Fingerprints needed; Copy of DMV license needed  2023-04-22T05:00:01.000  \n",
       "4  Fingerprints needed; Copy of DMV license needed  2023-04-22T05:00:01.000  "
      ]
     },
     "execution_count": 7,
     "metadata": {},
     "output_type": "execute_result"
    }
   ],
   "source": [
    "df.head()"
   ]
  },
  {
   "cell_type": "code",
   "execution_count": 19,
   "metadata": {},
   "outputs": [
    {
     "data": {
      "text/plain": [
       "app_no                             object\n",
       "type                               object\n",
       "app_date                   datetime64[ns]\n",
       "status                             object\n",
       "fru_interview_scheduled            object\n",
       "drug_test                          object\n",
       "wav_course                         object\n",
       "defensive_driving                  object\n",
       "driver_exam                        object\n",
       "medical_clearance_form             object\n",
       "other_requirements                 object\n",
       "lastupdate                 datetime64[ns]\n",
       "dtype: object"
      ]
     },
     "execution_count": 19,
     "metadata": {},
     "output_type": "execute_result"
    }
   ],
   "source": [
    "df.dtypes"
   ]
  },
  {
   "cell_type": "code",
   "execution_count": 9,
   "metadata": {},
   "outputs": [],
   "source": [
    "df['app_date'] = pd.to_datetime(df['app_date'])"
   ]
  },
  {
   "cell_type": "code",
   "execution_count": 10,
   "metadata": {},
   "outputs": [],
   "source": [
    "df['lastupdate'] = pd.to_datetime(df['lastupdate'])"
   ]
  },
  {
   "cell_type": "code",
   "execution_count": 12,
   "metadata": {},
   "outputs": [
    {
     "data": {
      "text/plain": [
       "Timestamp('1997-04-28 00:00:00')"
      ]
     },
     "execution_count": 12,
     "metadata": {},
     "output_type": "execute_result"
    }
   ],
   "source": [
    "#Check for dates that are before 2023 to identify applications that can be removed \n",
    "df['app_date'].min()"
   ]
  },
  {
   "cell_type": "code",
   "execution_count": 13,
   "metadata": {},
   "outputs": [
    {
     "data": {
      "text/plain": [
       "Timestamp('2023-04-22 00:00:00')"
      ]
     },
     "execution_count": 13,
     "metadata": {},
     "output_type": "execute_result"
    }
   ],
   "source": [
    "df['app_date'].max()"
   ]
  },
  {
   "cell_type": "code",
   "execution_count": 16,
   "metadata": {},
   "outputs": [
    {
     "data": {
      "text/plain": [
       "(11, 12)"
      ]
     },
     "execution_count": 16,
     "metadata": {},
     "output_type": "execute_result"
    }
   ],
   "source": [
    "df[df['app_date'] < '2022-01-01'].shape"
   ]
  },
  {
   "cell_type": "code",
   "execution_count": 17,
   "metadata": {},
   "outputs": [],
   "source": [
    "df = df[df['app_date'] > '2022-01-01']"
   ]
  },
  {
   "cell_type": "code",
   "execution_count": 18,
   "metadata": {},
   "outputs": [
    {
     "data": {
      "text/plain": [
       "(989, 12)"
      ]
     },
     "execution_count": 18,
     "metadata": {},
     "output_type": "execute_result"
    }
   ],
   "source": [
    "df.shape"
   ]
  },
  {
   "cell_type": "code",
   "execution_count": 20,
   "metadata": {},
   "outputs": [
    {
     "data": {
      "text/plain": [
       "Incomplete                   763\n",
       "Approved - License Issued    169\n",
       "Denied                        37\n",
       "Under Review                  14\n",
       "Pending Fitness Interview      6\n",
       "Name: status, dtype: int64"
      ]
     },
     "execution_count": 20,
     "metadata": {},
     "output_type": "execute_result"
    }
   ],
   "source": [
    "df['status'].value_counts()"
   ]
  },
  {
   "cell_type": "code",
   "execution_count": 28,
   "metadata": {},
   "outputs": [
    {
     "data": {
      "text/plain": [
       "(169, 12)"
      ]
     },
     "execution_count": 28,
     "metadata": {},
     "output_type": "execute_result"
    }
   ],
   "source": [
    "df[df['status'] == 'Approved - License Issued'].shape"
   ]
  },
  {
   "cell_type": "code",
   "execution_count": 29,
   "metadata": {},
   "outputs": [
    {
     "data": {
      "text/html": [
       "<div>\n",
       "<style scoped>\n",
       "    .dataframe tbody tr th:only-of-type {\n",
       "        vertical-align: middle;\n",
       "    }\n",
       "\n",
       "    .dataframe tbody tr th {\n",
       "        vertical-align: top;\n",
       "    }\n",
       "\n",
       "    .dataframe thead th {\n",
       "        text-align: right;\n",
       "    }\n",
       "</style>\n",
       "<table border=\"1\" class=\"dataframe\">\n",
       "  <thead>\n",
       "    <tr style=\"text-align: right;\">\n",
       "      <th></th>\n",
       "      <th>app_no</th>\n",
       "      <th>type</th>\n",
       "      <th>app_date</th>\n",
       "      <th>status</th>\n",
       "      <th>fru_interview_scheduled</th>\n",
       "      <th>drug_test</th>\n",
       "      <th>wav_course</th>\n",
       "      <th>defensive_driving</th>\n",
       "      <th>driver_exam</th>\n",
       "      <th>medical_clearance_form</th>\n",
       "      <th>other_requirements</th>\n",
       "      <th>lastupdate</th>\n",
       "    </tr>\n",
       "  </thead>\n",
       "  <tbody>\n",
       "    <tr>\n",
       "      <th>20</th>\n",
       "      <td>6024091</td>\n",
       "      <td>HDR</td>\n",
       "      <td>2023-03-28</td>\n",
       "      <td>Under Review</td>\n",
       "      <td>Not Applicable</td>\n",
       "      <td>Complete</td>\n",
       "      <td>Complete</td>\n",
       "      <td>Complete</td>\n",
       "      <td>Complete</td>\n",
       "      <td>Complete</td>\n",
       "      <td>Not Applicable</td>\n",
       "      <td>2023-04-22 05:00:01</td>\n",
       "    </tr>\n",
       "    <tr>\n",
       "      <th>60</th>\n",
       "      <td>6023997</td>\n",
       "      <td>HDR</td>\n",
       "      <td>2023-03-27</td>\n",
       "      <td>Under Review</td>\n",
       "      <td>Not Applicable</td>\n",
       "      <td>Complete</td>\n",
       "      <td>Complete</td>\n",
       "      <td>Complete</td>\n",
       "      <td>Complete</td>\n",
       "      <td>Complete</td>\n",
       "      <td>Not Applicable</td>\n",
       "      <td>2023-04-22 05:00:01</td>\n",
       "    </tr>\n",
       "    <tr>\n",
       "      <th>71</th>\n",
       "      <td>6024272</td>\n",
       "      <td>HDR</td>\n",
       "      <td>2023-03-29</td>\n",
       "      <td>Under Review</td>\n",
       "      <td>Not Applicable</td>\n",
       "      <td>Complete</td>\n",
       "      <td>Complete</td>\n",
       "      <td>Complete</td>\n",
       "      <td>Complete</td>\n",
       "      <td>Complete</td>\n",
       "      <td>Not Applicable</td>\n",
       "      <td>2023-04-22 05:00:01</td>\n",
       "    </tr>\n",
       "    <tr>\n",
       "      <th>100</th>\n",
       "      <td>6023737</td>\n",
       "      <td>HDR</td>\n",
       "      <td>2023-03-24</td>\n",
       "      <td>Under Review</td>\n",
       "      <td>Not Applicable</td>\n",
       "      <td>Complete</td>\n",
       "      <td>Complete</td>\n",
       "      <td>Complete</td>\n",
       "      <td>Complete</td>\n",
       "      <td>Complete</td>\n",
       "      <td>Not Applicable</td>\n",
       "      <td>2023-04-22 05:00:01</td>\n",
       "    </tr>\n",
       "    <tr>\n",
       "      <th>194</th>\n",
       "      <td>6021867</td>\n",
       "      <td>HDR</td>\n",
       "      <td>2023-03-06</td>\n",
       "      <td>Under Review</td>\n",
       "      <td>Not Applicable</td>\n",
       "      <td>Complete</td>\n",
       "      <td>Complete</td>\n",
       "      <td>Complete</td>\n",
       "      <td>Complete</td>\n",
       "      <td>Complete</td>\n",
       "      <td>Not Applicable</td>\n",
       "      <td>2023-04-22 05:00:01</td>\n",
       "    </tr>\n",
       "    <tr>\n",
       "      <th>240</th>\n",
       "      <td>6023294</td>\n",
       "      <td>HDR</td>\n",
       "      <td>2023-03-20</td>\n",
       "      <td>Under Review</td>\n",
       "      <td>Not Applicable</td>\n",
       "      <td>Complete</td>\n",
       "      <td>Complete</td>\n",
       "      <td>Complete</td>\n",
       "      <td>Complete</td>\n",
       "      <td>Complete</td>\n",
       "      <td>Not Applicable</td>\n",
       "      <td>2023-04-22 05:00:01</td>\n",
       "    </tr>\n",
       "    <tr>\n",
       "      <th>413</th>\n",
       "      <td>6021409</td>\n",
       "      <td>HDR</td>\n",
       "      <td>2023-03-01</td>\n",
       "      <td>Under Review</td>\n",
       "      <td>Not Applicable</td>\n",
       "      <td>Complete</td>\n",
       "      <td>Complete</td>\n",
       "      <td>Complete</td>\n",
       "      <td>Complete</td>\n",
       "      <td>Complete</td>\n",
       "      <td>Not Applicable</td>\n",
       "      <td>2023-04-22 05:00:01</td>\n",
       "    </tr>\n",
       "    <tr>\n",
       "      <th>451</th>\n",
       "      <td>6024139</td>\n",
       "      <td>HDR</td>\n",
       "      <td>2023-03-28</td>\n",
       "      <td>Under Review</td>\n",
       "      <td>Not Applicable</td>\n",
       "      <td>Complete</td>\n",
       "      <td>Complete</td>\n",
       "      <td>Complete</td>\n",
       "      <td>Complete</td>\n",
       "      <td>Complete</td>\n",
       "      <td>Not Applicable</td>\n",
       "      <td>2023-04-22 05:00:01</td>\n",
       "    </tr>\n",
       "    <tr>\n",
       "      <th>468</th>\n",
       "      <td>6017639</td>\n",
       "      <td>HDR</td>\n",
       "      <td>2023-01-18</td>\n",
       "      <td>Under Review</td>\n",
       "      <td>Not Applicable</td>\n",
       "      <td>Complete</td>\n",
       "      <td>Complete</td>\n",
       "      <td>Complete</td>\n",
       "      <td>Complete</td>\n",
       "      <td>Complete</td>\n",
       "      <td>Not Applicable</td>\n",
       "      <td>2023-04-22 05:00:01</td>\n",
       "    </tr>\n",
       "    <tr>\n",
       "      <th>500</th>\n",
       "      <td>6021637</td>\n",
       "      <td>HDR</td>\n",
       "      <td>2023-03-03</td>\n",
       "      <td>Under Review</td>\n",
       "      <td>Not Applicable</td>\n",
       "      <td>Complete</td>\n",
       "      <td>Complete</td>\n",
       "      <td>Complete</td>\n",
       "      <td>Complete</td>\n",
       "      <td>Complete</td>\n",
       "      <td>Not Applicable</td>\n",
       "      <td>2023-04-22 05:00:01</td>\n",
       "    </tr>\n",
       "    <tr>\n",
       "      <th>527</th>\n",
       "      <td>6025594</td>\n",
       "      <td>HDR</td>\n",
       "      <td>2023-04-11</td>\n",
       "      <td>Under Review</td>\n",
       "      <td>Not Applicable</td>\n",
       "      <td>Complete</td>\n",
       "      <td>Complete</td>\n",
       "      <td>Complete</td>\n",
       "      <td>Complete</td>\n",
       "      <td>Complete</td>\n",
       "      <td>Not Applicable</td>\n",
       "      <td>2023-04-22 05:00:01</td>\n",
       "    </tr>\n",
       "    <tr>\n",
       "      <th>647</th>\n",
       "      <td>6025398</td>\n",
       "      <td>HDR</td>\n",
       "      <td>2023-04-08</td>\n",
       "      <td>Under Review</td>\n",
       "      <td>Not Applicable</td>\n",
       "      <td>Complete</td>\n",
       "      <td>Complete</td>\n",
       "      <td>Complete</td>\n",
       "      <td>Complete</td>\n",
       "      <td>Complete</td>\n",
       "      <td>Not Applicable</td>\n",
       "      <td>2023-04-22 05:00:01</td>\n",
       "    </tr>\n",
       "    <tr>\n",
       "      <th>963</th>\n",
       "      <td>6025087</td>\n",
       "      <td>HDR</td>\n",
       "      <td>2023-04-05</td>\n",
       "      <td>Under Review</td>\n",
       "      <td>Not Applicable</td>\n",
       "      <td>Complete</td>\n",
       "      <td>Complete</td>\n",
       "      <td>Complete</td>\n",
       "      <td>Complete</td>\n",
       "      <td>Complete</td>\n",
       "      <td>Not Applicable</td>\n",
       "      <td>2023-04-22 05:00:01</td>\n",
       "    </tr>\n",
       "    <tr>\n",
       "      <th>966</th>\n",
       "      <td>6024364</td>\n",
       "      <td>HDR</td>\n",
       "      <td>2023-03-30</td>\n",
       "      <td>Under Review</td>\n",
       "      <td>Not Applicable</td>\n",
       "      <td>Complete</td>\n",
       "      <td>Complete</td>\n",
       "      <td>Complete</td>\n",
       "      <td>Complete</td>\n",
       "      <td>Complete</td>\n",
       "      <td>Not Applicable</td>\n",
       "      <td>2023-04-22 05:00:01</td>\n",
       "    </tr>\n",
       "  </tbody>\n",
       "</table>\n",
       "</div>"
      ],
      "text/plain": [
       "      app_no type   app_date        status fru_interview_scheduled drug_test  \\\n",
       "20   6024091  HDR 2023-03-28  Under Review          Not Applicable  Complete   \n",
       "60   6023997  HDR 2023-03-27  Under Review          Not Applicable  Complete   \n",
       "71   6024272  HDR 2023-03-29  Under Review          Not Applicable  Complete   \n",
       "100  6023737  HDR 2023-03-24  Under Review          Not Applicable  Complete   \n",
       "194  6021867  HDR 2023-03-06  Under Review          Not Applicable  Complete   \n",
       "240  6023294  HDR 2023-03-20  Under Review          Not Applicable  Complete   \n",
       "413  6021409  HDR 2023-03-01  Under Review          Not Applicable  Complete   \n",
       "451  6024139  HDR 2023-03-28  Under Review          Not Applicable  Complete   \n",
       "468  6017639  HDR 2023-01-18  Under Review          Not Applicable  Complete   \n",
       "500  6021637  HDR 2023-03-03  Under Review          Not Applicable  Complete   \n",
       "527  6025594  HDR 2023-04-11  Under Review          Not Applicable  Complete   \n",
       "647  6025398  HDR 2023-04-08  Under Review          Not Applicable  Complete   \n",
       "963  6025087  HDR 2023-04-05  Under Review          Not Applicable  Complete   \n",
       "966  6024364  HDR 2023-03-30  Under Review          Not Applicable  Complete   \n",
       "\n",
       "    wav_course defensive_driving driver_exam medical_clearance_form  \\\n",
       "20    Complete          Complete    Complete               Complete   \n",
       "60    Complete          Complete    Complete               Complete   \n",
       "71    Complete          Complete    Complete               Complete   \n",
       "100   Complete          Complete    Complete               Complete   \n",
       "194   Complete          Complete    Complete               Complete   \n",
       "240   Complete          Complete    Complete               Complete   \n",
       "413   Complete          Complete    Complete               Complete   \n",
       "451   Complete          Complete    Complete               Complete   \n",
       "468   Complete          Complete    Complete               Complete   \n",
       "500   Complete          Complete    Complete               Complete   \n",
       "527   Complete          Complete    Complete               Complete   \n",
       "647   Complete          Complete    Complete               Complete   \n",
       "963   Complete          Complete    Complete               Complete   \n",
       "966   Complete          Complete    Complete               Complete   \n",
       "\n",
       "    other_requirements          lastupdate  \n",
       "20      Not Applicable 2023-04-22 05:00:01  \n",
       "60      Not Applicable 2023-04-22 05:00:01  \n",
       "71      Not Applicable 2023-04-22 05:00:01  \n",
       "100     Not Applicable 2023-04-22 05:00:01  \n",
       "194     Not Applicable 2023-04-22 05:00:01  \n",
       "240     Not Applicable 2023-04-22 05:00:01  \n",
       "413     Not Applicable 2023-04-22 05:00:01  \n",
       "451     Not Applicable 2023-04-22 05:00:01  \n",
       "468     Not Applicable 2023-04-22 05:00:01  \n",
       "500     Not Applicable 2023-04-22 05:00:01  \n",
       "527     Not Applicable 2023-04-22 05:00:01  \n",
       "647     Not Applicable 2023-04-22 05:00:01  \n",
       "963     Not Applicable 2023-04-22 05:00:01  \n",
       "966     Not Applicable 2023-04-22 05:00:01  "
      ]
     },
     "execution_count": 29,
     "metadata": {},
     "output_type": "execute_result"
    }
   ],
   "source": [
    "df[df['status'] == 'Under Review']"
   ]
  },
  {
   "cell_type": "code",
   "execution_count": 21,
   "metadata": {},
   "outputs": [
    {
     "data": {
      "text/plain": [
       "app_no                             object\n",
       "type                               object\n",
       "app_date                   datetime64[ns]\n",
       "status                             object\n",
       "fru_interview_scheduled            object\n",
       "drug_test                          object\n",
       "wav_course                         object\n",
       "defensive_driving                  object\n",
       "driver_exam                        object\n",
       "medical_clearance_form             object\n",
       "other_requirements                 object\n",
       "lastupdate                 datetime64[ns]\n",
       "dtype: object"
      ]
     },
     "execution_count": 21,
     "metadata": {},
     "output_type": "execute_result"
    }
   ],
   "source": [
    "df.dtypes"
   ]
  },
  {
   "cell_type": "code",
   "execution_count": null,
   "metadata": {},
   "outputs": [],
   "source": []
  },
  {
   "cell_type": "code",
   "execution_count": null,
   "metadata": {},
   "outputs": [],
   "source": []
  },
  {
   "cell_type": "code",
   "execution_count": null,
   "metadata": {},
   "outputs": [],
   "source": []
  },
  {
   "cell_type": "code",
   "execution_count": null,
   "metadata": {},
   "outputs": [],
   "source": []
  },
  {
   "cell_type": "code",
   "execution_count": null,
   "metadata": {},
   "outputs": [],
   "source": []
  },
  {
   "cell_type": "code",
   "execution_count": null,
   "metadata": {},
   "outputs": [],
   "source": []
  },
  {
   "cell_type": "code",
   "execution_count": null,
   "metadata": {},
   "outputs": [],
   "source": []
  },
  {
   "cell_type": "code",
   "execution_count": null,
   "metadata": {},
   "outputs": [],
   "source": []
  },
  {
   "cell_type": "code",
   "execution_count": 26,
   "metadata": {},
   "outputs": [
    {
     "ename": "KeyError",
     "evalue": "'Incomplete'",
     "output_type": "error",
     "traceback": [
      "\u001b[0;31m---------------------------------------------------------------------------\u001b[0m",
      "\u001b[0;31mKeyError\u001b[0m                                  Traceback (most recent call last)",
      "\u001b[0;32m<ipython-input-26-c25043341609>\u001b[0m in \u001b[0;36m<module>\u001b[0;34m\u001b[0m\n\u001b[0;32m----> 1\u001b[0;31m pd.pivot_table(df, values=df['status'], index = df['drug_test'], columns = df['status'], aggfunc='count', \n\u001b[0m\u001b[1;32m      2\u001b[0m              margins=False, margins_name='Total')\n",
      "\u001b[0;32m~/opt/anaconda3/lib/python3.8/site-packages/pandas/core/reshape/pivot.py\u001b[0m in \u001b[0;36mpivot_table\u001b[0;34m(data, values, index, columns, aggfunc, fill_value, margins, dropna, margins_name, observed)\u001b[0m\n\u001b[1;32m     86\u001b[0m         \u001b[0;32mfor\u001b[0m \u001b[0mi\u001b[0m \u001b[0;32min\u001b[0m \u001b[0mvalues\u001b[0m\u001b[0;34m:\u001b[0m\u001b[0;34m\u001b[0m\u001b[0;34m\u001b[0m\u001b[0m\n\u001b[1;32m     87\u001b[0m             \u001b[0;32mif\u001b[0m \u001b[0mi\u001b[0m \u001b[0;32mnot\u001b[0m \u001b[0;32min\u001b[0m \u001b[0mdata\u001b[0m\u001b[0;34m:\u001b[0m\u001b[0;34m\u001b[0m\u001b[0;34m\u001b[0m\u001b[0m\n\u001b[0;32m---> 88\u001b[0;31m                 \u001b[0;32mraise\u001b[0m \u001b[0mKeyError\u001b[0m\u001b[0;34m(\u001b[0m\u001b[0mi\u001b[0m\u001b[0;34m)\u001b[0m\u001b[0;34m\u001b[0m\u001b[0;34m\u001b[0m\u001b[0m\n\u001b[0m\u001b[1;32m     89\u001b[0m \u001b[0;34m\u001b[0m\u001b[0m\n\u001b[1;32m     90\u001b[0m         \u001b[0mto_filter\u001b[0m \u001b[0;34m=\u001b[0m \u001b[0;34m[\u001b[0m\u001b[0;34m]\u001b[0m\u001b[0;34m\u001b[0m\u001b[0;34m\u001b[0m\u001b[0m\n",
      "\u001b[0;31mKeyError\u001b[0m: 'Incomplete'"
     ]
    }
   ],
   "source": [
    "pd.pivot_table(df, values=df['status'], index = df['drug_test'], columns = df['status'], aggfunc='count', \n",
    "             margins=False, margins_name='Total')\n"
   ]
  },
  {
   "cell_type": "code",
   "execution_count": null,
   "metadata": {},
   "outputs": [],
   "source": []
  }
 ],
 "metadata": {
  "kernelspec": {
   "display_name": "Python 3",
   "language": "python",
   "name": "python3"
  },
  "language_info": {
   "codemirror_mode": {
    "name": "ipython",
    "version": 3
   },
   "file_extension": ".py",
   "mimetype": "text/x-python",
   "name": "python",
   "nbconvert_exporter": "python",
   "pygments_lexer": "ipython3",
   "version": "3.8.5"
  }
 },
 "nbformat": 4,
 "nbformat_minor": 4
}
