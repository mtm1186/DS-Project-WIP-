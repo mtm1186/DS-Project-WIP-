{
 "cells": [
  {
   "cell_type": "code",
   "execution_count": 9,
   "metadata": {},
   "outputs": [],
   "source": [
    "import pandas as pd\n",
    "import numpy as np\n",
    "import matplotlib.pyplot as plt\n",
    "import requests\n",
    "import json\n"
   ]
  },
  {
   "cell_type": "code",
   "execution_count": 10,
   "metadata": {},
   "outputs": [],
   "source": [
    "response_API = requests.get('https://data.cityofnewyork.us/resource/8h9b-rp9u.json')\n",
    "data = response_API.text"
   ]
  },
  {
   "cell_type": "code",
   "execution_count": 11,
   "metadata": {},
   "outputs": [
    {
     "name": "stdout",
     "output_type": "stream",
     "text": [
      "200\n"
     ]
    }
   ],
   "source": [
    "#print(response_API.status_code)\n",
    "print(response_API.status_code)\n",
    "data = json.loads(data)"
   ]
  },
  {
   "cell_type": "code",
   "execution_count": 12,
   "metadata": {},
   "outputs": [],
   "source": [
    "df = pd.json_normalize(data)"
   ]
  },
  {
   "cell_type": "code",
   "execution_count": 18,
   "metadata": {},
   "outputs": [
    {
     "data": {
      "text/plain": [
       "(1000, 25)"
      ]
     },
     "execution_count": 18,
     "metadata": {},
     "output_type": "execute_result"
    }
   ],
   "source": [
    "df.shape"
   ]
  },
  {
   "cell_type": "code",
   "execution_count": 19,
   "metadata": {},
   "outputs": [
    {
     "data": {
      "text/html": [
       "<div>\n",
       "<style scoped>\n",
       "    .dataframe tbody tr th:only-of-type {\n",
       "        vertical-align: middle;\n",
       "    }\n",
       "\n",
       "    .dataframe tbody tr th {\n",
       "        vertical-align: top;\n",
       "    }\n",
       "\n",
       "    .dataframe thead th {\n",
       "        text-align: right;\n",
       "    }\n",
       "</style>\n",
       "<table border=\"1\" class=\"dataframe\">\n",
       "  <thead>\n",
       "    <tr style=\"text-align: right;\">\n",
       "      <th></th>\n",
       "      <th>arrest_key</th>\n",
       "      <th>arrest_date</th>\n",
       "      <th>pd_cd</th>\n",
       "      <th>law_code</th>\n",
       "      <th>law_cat_cd</th>\n",
       "      <th>arrest_boro</th>\n",
       "      <th>arrest_precinct</th>\n",
       "      <th>jurisdiction_code</th>\n",
       "      <th>age_group</th>\n",
       "      <th>perp_sex</th>\n",
       "      <th>...</th>\n",
       "      <th>:@computed_region_efsh_h5xi</th>\n",
       "      <th>:@computed_region_f5dn_yrer</th>\n",
       "      <th>:@computed_region_yeji_bk3q</th>\n",
       "      <th>:@computed_region_92fq_4b7q</th>\n",
       "      <th>:@computed_region_sbqj_enih</th>\n",
       "      <th>lon_lat.type</th>\n",
       "      <th>lon_lat.coordinates</th>\n",
       "      <th>pd_desc</th>\n",
       "      <th>ky_cd</th>\n",
       "      <th>ofns_desc</th>\n",
       "    </tr>\n",
       "  </thead>\n",
       "  <tbody>\n",
       "    <tr>\n",
       "      <th>0</th>\n",
       "      <td>236791704</td>\n",
       "      <td>2021-11-22T00:00:00.000</td>\n",
       "      <td>581</td>\n",
       "      <td>PL 2225001</td>\n",
       "      <td>M</td>\n",
       "      <td>M</td>\n",
       "      <td>28</td>\n",
       "      <td>0</td>\n",
       "      <td>45-64</td>\n",
       "      <td>M</td>\n",
       "      <td>...</td>\n",
       "      <td>12423</td>\n",
       "      <td>18</td>\n",
       "      <td>4</td>\n",
       "      <td>36</td>\n",
       "      <td>18</td>\n",
       "      <td>Point</td>\n",
       "      <td>[-73.95240854099995, 40.799008797000056]</td>\n",
       "      <td>NaN</td>\n",
       "      <td>NaN</td>\n",
       "      <td>NaN</td>\n",
       "    </tr>\n",
       "    <tr>\n",
       "      <th>1</th>\n",
       "      <td>237354740</td>\n",
       "      <td>2021-12-04T00:00:00.000</td>\n",
       "      <td>153</td>\n",
       "      <td>PL 1302502</td>\n",
       "      <td>F</td>\n",
       "      <td>B</td>\n",
       "      <td>41</td>\n",
       "      <td>0</td>\n",
       "      <td>25-44</td>\n",
       "      <td>M</td>\n",
       "      <td>...</td>\n",
       "      <td>10937</td>\n",
       "      <td>8</td>\n",
       "      <td>5</td>\n",
       "      <td>43</td>\n",
       "      <td>24</td>\n",
       "      <td>Point</td>\n",
       "      <td>[-73.89529641399997, 40.816391847000034]</td>\n",
       "      <td>RAPE 3</td>\n",
       "      <td>104</td>\n",
       "      <td>RAPE</td>\n",
       "    </tr>\n",
       "    <tr>\n",
       "      <th>2</th>\n",
       "      <td>236081433</td>\n",
       "      <td>2021-11-09T00:00:00.000</td>\n",
       "      <td>681</td>\n",
       "      <td>PL 2601001</td>\n",
       "      <td>M</td>\n",
       "      <td>Q</td>\n",
       "      <td>113</td>\n",
       "      <td>0</td>\n",
       "      <td>25-44</td>\n",
       "      <td>M</td>\n",
       "      <td>...</td>\n",
       "      <td>24669</td>\n",
       "      <td>41</td>\n",
       "      <td>3</td>\n",
       "      <td>46</td>\n",
       "      <td>71</td>\n",
       "      <td>Point</td>\n",
       "      <td>[-73.77604736799998, 40.67970040800003]</td>\n",
       "      <td>CHILD, ENDANGERING WELFARE</td>\n",
       "      <td>233</td>\n",
       "      <td>SEX CRIMES</td>\n",
       "    </tr>\n",
       "    <tr>\n",
       "      <th>3</th>\n",
       "      <td>32311380</td>\n",
       "      <td>2007-06-18T00:00:00.000</td>\n",
       "      <td>511.0</td>\n",
       "      <td>PL 2200300</td>\n",
       "      <td>M</td>\n",
       "      <td>Q</td>\n",
       "      <td>27</td>\n",
       "      <td>1.0</td>\n",
       "      <td>18-24</td>\n",
       "      <td>M</td>\n",
       "      <td>...</td>\n",
       "      <td>NaN</td>\n",
       "      <td>NaN</td>\n",
       "      <td>NaN</td>\n",
       "      <td>NaN</td>\n",
       "      <td>NaN</td>\n",
       "      <td>NaN</td>\n",
       "      <td>NaN</td>\n",
       "      <td>CONTROLLED SUBSTANCE, POSSESSION 7</td>\n",
       "      <td>235.0</td>\n",
       "      <td>DANGEROUS DRUGS</td>\n",
       "    </tr>\n",
       "    <tr>\n",
       "      <th>4</th>\n",
       "      <td>192799737</td>\n",
       "      <td>2019-01-26T00:00:00.000</td>\n",
       "      <td>177</td>\n",
       "      <td>PL 1306503</td>\n",
       "      <td>F</td>\n",
       "      <td>M</td>\n",
       "      <td>25</td>\n",
       "      <td>0</td>\n",
       "      <td>45-64</td>\n",
       "      <td>M</td>\n",
       "      <td>...</td>\n",
       "      <td>13093</td>\n",
       "      <td>7</td>\n",
       "      <td>4</td>\n",
       "      <td>36</td>\n",
       "      <td>16</td>\n",
       "      <td>Point</td>\n",
       "      <td>[-73.94110928599997, 40.800694331000045]</td>\n",
       "      <td>SEXUAL ABUSE</td>\n",
       "      <td>116</td>\n",
       "      <td>SEX CRIMES</td>\n",
       "    </tr>\n",
       "  </tbody>\n",
       "</table>\n",
       "<p>5 rows × 25 columns</p>\n",
       "</div>"
      ],
      "text/plain": [
       "  arrest_key              arrest_date  pd_cd    law_code law_cat_cd  \\\n",
       "0  236791704  2021-11-22T00:00:00.000    581  PL 2225001          M   \n",
       "1  237354740  2021-12-04T00:00:00.000    153  PL 1302502          F   \n",
       "2  236081433  2021-11-09T00:00:00.000    681  PL 2601001          M   \n",
       "3   32311380  2007-06-18T00:00:00.000  511.0  PL 2200300          M   \n",
       "4  192799737  2019-01-26T00:00:00.000    177  PL 1306503          F   \n",
       "\n",
       "  arrest_boro arrest_precinct jurisdiction_code age_group perp_sex  ...  \\\n",
       "0           M              28                 0     45-64        M  ...   \n",
       "1           B              41                 0     25-44        M  ...   \n",
       "2           Q             113                 0     25-44        M  ...   \n",
       "3           Q              27               1.0     18-24        M  ...   \n",
       "4           M              25                 0     45-64        M  ...   \n",
       "\n",
       "  :@computed_region_efsh_h5xi :@computed_region_f5dn_yrer  \\\n",
       "0                       12423                          18   \n",
       "1                       10937                           8   \n",
       "2                       24669                          41   \n",
       "3                         NaN                         NaN   \n",
       "4                       13093                           7   \n",
       "\n",
       "  :@computed_region_yeji_bk3q :@computed_region_92fq_4b7q  \\\n",
       "0                           4                          36   \n",
       "1                           5                          43   \n",
       "2                           3                          46   \n",
       "3                         NaN                         NaN   \n",
       "4                           4                          36   \n",
       "\n",
       "  :@computed_region_sbqj_enih lon_lat.type  \\\n",
       "0                          18        Point   \n",
       "1                          24        Point   \n",
       "2                          71        Point   \n",
       "3                         NaN          NaN   \n",
       "4                          16        Point   \n",
       "\n",
       "                        lon_lat.coordinates  \\\n",
       "0  [-73.95240854099995, 40.799008797000056]   \n",
       "1  [-73.89529641399997, 40.816391847000034]   \n",
       "2   [-73.77604736799998, 40.67970040800003]   \n",
       "3                                       NaN   \n",
       "4  [-73.94110928599997, 40.800694331000045]   \n",
       "\n",
       "                              pd_desc  ky_cd        ofns_desc  \n",
       "0                                 NaN    NaN              NaN  \n",
       "1                              RAPE 3    104             RAPE  \n",
       "2          CHILD, ENDANGERING WELFARE    233       SEX CRIMES  \n",
       "3  CONTROLLED SUBSTANCE, POSSESSION 7  235.0  DANGEROUS DRUGS  \n",
       "4                        SEXUAL ABUSE    116       SEX CRIMES  \n",
       "\n",
       "[5 rows x 25 columns]"
      ]
     },
     "execution_count": 19,
     "metadata": {},
     "output_type": "execute_result"
    }
   ],
   "source": [
    "df.head()"
   ]
  },
  {
   "cell_type": "code",
   "execution_count": 20,
   "metadata": {},
   "outputs": [
    {
     "data": {
      "text/plain": [
       "arrest_key                     object\n",
       "arrest_date                    object\n",
       "pd_cd                          object\n",
       "law_code                       object\n",
       "law_cat_cd                     object\n",
       "arrest_boro                    object\n",
       "arrest_precinct                object\n",
       "jurisdiction_code              object\n",
       "age_group                      object\n",
       "perp_sex                       object\n",
       "perp_race                      object\n",
       "x_coord_cd                     object\n",
       "y_coord_cd                     object\n",
       "latitude                       object\n",
       "longitude                      object\n",
       ":@computed_region_efsh_h5xi    object\n",
       ":@computed_region_f5dn_yrer    object\n",
       ":@computed_region_yeji_bk3q    object\n",
       ":@computed_region_92fq_4b7q    object\n",
       ":@computed_region_sbqj_enih    object\n",
       "lon_lat.type                   object\n",
       "lon_lat.coordinates            object\n",
       "pd_desc                        object\n",
       "ky_cd                          object\n",
       "ofns_desc                      object\n",
       "dtype: object"
      ]
     },
     "execution_count": 20,
     "metadata": {},
     "output_type": "execute_result"
    }
   ],
   "source": [
    "df.dtypes"
   ]
  },
  {
   "cell_type": "code",
   "execution_count": 21,
   "metadata": {},
   "outputs": [],
   "source": [
    "df['arrest_date'] = pd.to_datetime(df['arrest_date'])"
   ]
  },
  {
   "cell_type": "code",
   "execution_count": 31,
   "metadata": {},
   "outputs": [
    {
     "data": {
      "text/plain": [
       "Timestamp('2006-01-26 00:00:00')"
      ]
     },
     "execution_count": 31,
     "metadata": {},
     "output_type": "execute_result"
    }
   ],
   "source": [
    "df['arrest_date'].min()"
   ]
  },
  {
   "cell_type": "code",
   "execution_count": 32,
   "metadata": {},
   "outputs": [
    {
     "data": {
      "text/plain": [
       "Timestamp('2021-12-30 00:00:00')"
      ]
     },
     "execution_count": 32,
     "metadata": {},
     "output_type": "execute_result"
    }
   ],
   "source": [
    "df['arrest_date'].max()"
   ]
  },
  {
   "cell_type": "code",
   "execution_count": null,
   "metadata": {},
   "outputs": [],
   "source": []
  },
  {
   "cell_type": "code",
   "execution_count": null,
   "metadata": {},
   "outputs": [],
   "source": []
  }
 ],
 "metadata": {
  "kernelspec": {
   "display_name": "Python 3",
   "language": "python",
   "name": "python3"
  },
  "language_info": {
   "codemirror_mode": {
    "name": "ipython",
    "version": 3
   },
   "file_extension": ".py",
   "mimetype": "text/x-python",
   "name": "python",
   "nbconvert_exporter": "python",
   "pygments_lexer": "ipython3",
   "version": "3.8.5"
  }
 },
 "nbformat": 4,
 "nbformat_minor": 4
}
